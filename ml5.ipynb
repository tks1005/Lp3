{
 "cells": [
  {
   "cell_type": "code",
   "execution_count": 1,
   "id": "9d813ef9",
   "metadata": {},
   "outputs": [],
   "source": [
    "#Initialize Parameters\n",
    "cur_x = 2\n",
    "rate = 0.01\n",
    "precision = 0.000001\n",
    "previous_step_size = 1\n",
    "max_iters = 1000\n",
    "iters = 0\n",
    "df = lambda x : 2 * (x + 3) #Gradient of our function i.e (x + 3)²"
   ]
  },
  {
   "cell_type": "code",
   "execution_count": 2,
   "id": "4f38906e",
   "metadata": {},
   "outputs": [
    {
     "name": "stdout",
     "output_type": "stream",
     "text": [
      "Local Minima Occurs at : -2.999951128099859\n"
     ]
    }
   ],
   "source": [
    "#Run a loop to perform gradient Descent\n",
    "while previous_step_size > precision and iters < max_iters:\n",
    "    prev_x = cur_x\n",
    "    cur_x -= rate * df(prev_x)\n",
    "    previous_step_size = abs(prev_x - cur_x)\n",
    "    iters += 1\n",
    "print(\"Local Minima Occurs at :\",cur_x)"
   ]
  },
  {
   "cell_type": "code",
   "execution_count": null,
   "id": "17d17501",
   "metadata": {},
   "outputs": [],
   "source": []
  }
 ],
 "metadata": {
  "kernelspec": {
   "display_name": "Python 3 (ipykernel)",
   "language": "python",
   "name": "python3"
  },
  "language_info": {
   "codemirror_mode": {
    "name": "ipython",
    "version": 3
   },
   "file_extension": ".py",
   "mimetype": "text/x-python",
   "name": "python",
   "nbconvert_exporter": "python",
   "pygments_lexer": "ipython3",
   "version": "3.10.1"
  }
 },
 "nbformat": 4,
 "nbformat_minor": 5
}
